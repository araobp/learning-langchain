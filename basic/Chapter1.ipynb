{
 "cells": [
  {
   "cell_type": "markdown",
   "id": "cbec82da-59d9-4839-adcb-b9cac25800a2",
   "metadata": {},
   "source": [
    "# LangChain完全入門 Chapter1\n",
    "\n",
    "Date: 2024/08/15\n",
    "\n",
    "LangChain完全入門のコードが古いので、私なりにコード部分を更新。"
   ]
  },
  {
   "cell_type": "code",
   "execution_count": 13,
   "id": "466e5493-2688-4186-a58d-d1083ebcfdcf",
   "metadata": {},
   "outputs": [
    {
     "name": "stdout",
     "output_type": "stream",
     "text": [
      "iPhone8は2017年9月22日にリリースされました。\n",
      "\n"
     ]
    }
   ],
   "source": [
    "# P40\n",
    "from openai import OpenAI\n",
    "\n",
    "client = OpenAI()\n",
    "\n",
    "response = client.chat.completions.create(\n",
    "    model=\"gpt-3.5-turbo\",\n",
    "    messages=[\n",
    "        {\"role\": \"user\", \"content\": \"iPhone8のリリース日を教えて\"}\n",
    "    ]\n",
    ")\n",
    "\n",
    "for choice in response.choices:\n",
    "    print(choice.message.content, end='\\n\\n')"
   ]
  },
  {
   "cell_type": "code",
   "execution_count": 12,
   "id": "84238908-d191-4d97-9f2e-881c1bf5b705",
   "metadata": {},
   "outputs": [
    {
     "name": "stdout",
     "output_type": "stream",
     "text": [
      "そばの原材料は、そば粉と水です。一般的には、そば粉はそばの実を挽いて作られますが、種類によっては小麦粉を混ぜたり、蕎麦粉の割合を変えたりすることもあります。水は、生地を\n",
      "\n",
      "そばの原材料は主にそば粉（そばの実から作られる小麦粉）と水です。一部のそばでは、そばつゆや調味料なども使用されることがありますが、基本的にそばの主な原材料はそば粉と水です。\n",
      "\n"
     ]
    }
   ],
   "source": [
    "# P44\n",
    "from openai import OpenAI\n",
    "\n",
    "client = OpenAI()\n",
    "\n",
    "response = client.chat.completions.create(\n",
    "    model=\"gpt-3.5-turbo\",\n",
    "    messages=[\n",
    "        {\"role\": \"user\", \"content\": \"そばの原材料を教えて\"}\n",
    "    ],\n",
    "    max_tokens=100,\n",
    "    temperature=1,\n",
    "    n=2,\n",
    ")\n",
    "\n",
    "for choice in response.choices:\n",
    "    print(choice.message.content, end='\\n\\n')"
   ]
  },
  {
   "cell_type": "code",
   "execution_count": 14,
   "id": "d11d4eff-c4db-430e-bc65-0a05dd5939a7",
   "metadata": {},
   "outputs": [
    {
     "name": "stdout",
     "output_type": "stream",
     "text": [
      "とても良いです。外に出かけて散歩したり、友達と楽しく過ごしたりして、リフレッシュすることができそうです。良い天気の日は心地よいですね。\n",
      "\n",
      "爽やかです。外に出て散歩したり、友達と過ごしたりするのも気持ちいいかもしれませんね。何か特別な予定や計画はありますか？楽しい一日を過ごしてください！\n",
      "\n"
     ]
    }
   ],
   "source": [
    "#P47\n",
    "# Completions APIは Legacyへ\n",
    "# https://platform.openai.com/docs/guides/completions\n",
    "\n",
    "from openai import OpenAI\n",
    "\n",
    "client = OpenAI()\n",
    "\n",
    "response = client.chat.completions.create(\n",
    "    model=\"gpt-3.5-turbo\",\n",
    "    messages=[\n",
    "        {\"role\": \"user\", \"content\": \"今日の天気がとても良く、気分が\"}\n",
    "    ],\n",
    "    max_tokens=100,\n",
    "    temperature=1,\n",
    "    n=2,\n",
    ")\n",
    "\n",
    "for choice in response.choices:\n",
    "    print(choice.message.content, end='\\n\\n')"
   ]
  }
 ],
 "metadata": {
  "kernelspec": {
   "display_name": "Python 3 (ipykernel)",
   "language": "python",
   "name": "python3"
  },
  "language_info": {
   "codemirror_mode": {
    "name": "ipython",
    "version": 3
   },
   "file_extension": ".py",
   "mimetype": "text/x-python",
   "name": "python",
   "nbconvert_exporter": "python",
   "pygments_lexer": "ipython3",
   "version": "3.11.4"
  }
 },
 "nbformat": 4,
 "nbformat_minor": 5
}
