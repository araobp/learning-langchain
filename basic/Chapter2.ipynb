{
 "cells": [
  {
   "cell_type": "markdown",
   "id": "cbec82da-59d9-4839-adcb-b9cac25800a2",
   "metadata": {},
   "source": [
    "# LangChain完全入門 Chapter2\n",
    "\n",
    "Date: 2024/08/15\n",
    "\n",
    "LangChain完全入門のコードが古いので、私なりにコード部分を更新。"
   ]
  },
  {
   "cell_type": "markdown",
   "id": "90f1addd-4b6c-4dd4-8821-735bac8611bf",
   "metadata": {},
   "source": [
    "私のアカウントでは以下の２つを利用可能と設定：\n",
    "- gpt-3.5-turbo\n",
    "- gpt-3.5-turbo-instruct"
   ]
  },
  {
   "cell_type": "code",
   "execution_count": 2,
   "id": "466e5493-2688-4186-a58d-d1083ebcfdcf",
   "metadata": {},
   "outputs": [
    {
     "name": "stdout",
     "output_type": "stream",
     "text": [
      "iPhone8は2017年9月22日にリリースされました。\n",
      "\n"
     ]
    }
   ],
   "source": [
    "# P52\n",
    "from openai import OpenAI\n",
    "\n",
    "client = OpenAI()\n",
    "\n",
    "response = client.chat.completions.create(\n",
    "    model=\"gpt-3.5-turbo\",\n",
    "    messages=[\n",
    "        {\"role\": \"user\", \"content\": \"iPhone8のリリース日を教えて\"}\n",
    "    ]\n",
    ")\n",
    "\n",
    "for choice in response.choices:\n",
    "    print(choice.message.content, end='\\n\\n')"
   ]
  },
  {
   "cell_type": "code",
   "execution_count": 10,
   "id": "4cefa8c9-03a6-4625-bbd3-0f8dadb54388",
   "metadata": {},
   "outputs": [
    {
     "name": "stdout",
     "output_type": "stream",
     "text": [
      "Error code: 404 - {'error': {'message': 'This is not a chat model and thus not supported in the v1/chat/completions endpoint. Did you mean to use v1/completions?', 'type': 'invalid_request_error', 'param': 'model', 'code': None}}\n"
     ]
    }
   ],
   "source": [
    "# P52\n",
    "from openai import OpenAI\n",
    "\n",
    "client = OpenAI()\n",
    "\n",
    "try:\n",
    "\n",
    "    response = client.chat.completions.create(\n",
    "        model=\"gpt-3.5-turbo-instruct\",\n",
    "        messages=[\n",
    "            {\"role\": \"user\", \"content\": \"iPhone8のリリース日を教えて\"}\n",
    "        ]\n",
    "    )\n",
    "    \n",
    "    for choice in response.choices:\n",
    "        print(choice.message.content, end='\\n\\n')\n",
    "\n",
    "except Exception as e:\n",
    "    print(e)"
   ]
  },
  {
   "cell_type": "markdown",
   "id": "b9439e91-dba3-4146-936e-c0a4ae6dea54",
   "metadata": {},
   "source": [
    "Errorになる原因は以下を参照。instructの方はレガシーのAPIを使っている。\n",
    "\n",
    "https://stackoverflow.com/questions/75774873/openai-api-error-this-is-a-chat-model-and-not-supported-in-the-v1-completions"
   ]
  },
  {
   "cell_type": "markdown",
   "id": "de235d90-222e-45bc-bf0e-15624ea716b8",
   "metadata": {},
   "source": [
    "## 中間まとめ\n",
    "\n",
    "Model I/Oモジュールには以下のサブモジュールがある：\n",
    "- Laguage models\n",
    "- Prompts\n",
    "- Output parsers"
   ]
  },
  {
   "cell_type": "markdown",
   "id": "f0db1838-97dc-4751-bf9d-b5228409e281",
   "metadata": {},
   "source": [
    "## Language modelsを使ってみる"
   ]
  },
  {
   "cell_type": "code",
   "execution_count": 16,
   "id": "706cf751-7f3d-4101-8510-778423f1509f",
   "metadata": {},
   "outputs": [
    {
     "name": "stdout",
     "output_type": "stream",
     "text": [
      "こんにちは！元気ですか？何かお手伝いできることはありますか？\n"
     ]
    }
   ],
   "source": [
    "# P55\n",
    "from langchain_openai import ChatOpenAI\n",
    "from langchain_core.messages import HumanMessage, SystemMessage\n",
    "\n",
    "chat = ChatOpenAI(model=\"gpt-3.5-turbo\")\n",
    "\n",
    "result = chat.invoke([HumanMessage(content=\"こんにちは！\")])\n",
    "print(result.content)"
   ]
  },
  {
   "cell_type": "markdown",
   "id": "899ddbef-f442-4100-b718-e1cca3172e9d",
   "metadata": {},
   "source": [
    "読んで文字のごとく、HumanMessageは人からLLMへ送られるメッセージ"
   ]
  },
  {
   "cell_type": "code",
   "execution_count": 17,
   "id": "393f1ae8-260d-490e-a505-d7555b833759",
   "metadata": {},
   "outputs": [
    {
     "name": "stdout",
     "output_type": "stream",
     "text": [
      "こんにちは！元気？\n"
     ]
    }
   ],
   "source": [
    "result = chat.invoke(\n",
    "    [\n",
    "        SystemMessage(content=\"あなたは親しい友人です。返答は敬語を使わず、フランクに会話してください\"),\n",
    "        HumanMessage(content=\"こんにちは！\"),\n",
    "    ]\n",
    ")\n",
    "print(result.content)"
   ]
  },
  {
   "cell_type": "code",
   "execution_count": 18,
   "id": "e5f193b9-f5b3-461e-87e1-fbf844e1e432",
   "metadata": {},
   "outputs": [
    {
     "name": "stdout",
     "output_type": "stream",
     "text": [
      "報告！気軽なあいさつは許可されていません。任務に専念せよ！\n"
     ]
    }
   ],
   "source": [
    "result = chat.invoke(\n",
    "    [\n",
    "        SystemMessage(content=\"あなたは軍人です。部下からの気軽なあいさつへ厳しく答えてください。\"),\n",
    "        HumanMessage(content=\"こんにちは！\"),\n",
    "    ]\n",
    ")\n",
    "print(result.content)"
   ]
  },
  {
   "cell_type": "markdown",
   "id": "a85fb1c2-392b-4efe-b82b-b126d5e8a2a6",
   "metadata": {},
   "source": [
    "なるほど、SystemMessageでLLMの役割を設定すると返答内容が変わるのか。"
   ]
  },
  {
   "cell_type": "markdown",
   "id": "9233e58c-7d8e-4a9d-b904-95bf2398b311",
   "metadata": {},
   "source": [
    "## PromptTemplate"
   ]
  },
  {
   "cell_type": "code",
   "execution_count": 21,
   "id": "a2011d42-d486-480d-9650-bfc2b0b746e8",
   "metadata": {},
   "outputs": [
    {
     "data": {
      "text/plain": [
       "'iPhone SEはどこの会社が開発した製品ですか？'"
      ]
     },
     "execution_count": 21,
     "metadata": {},
     "output_type": "execute_result"
    }
   ],
   "source": [
    "#59\n",
    "\n",
    "from langchain_core.prompts import PromptTemplate\n",
    "\n",
    "prompt = PromptTemplate(\n",
    "    template = \"{product}はどこの会社が開発した製品ですか？\",\n",
    "    input_variables = [\n",
    "        \"product\"\n",
    "    ]\n",
    ")\n",
    "\n",
    "prompt.format(product=\"iPhone SE\")"
   ]
  },
  {
   "cell_type": "code",
   "execution_count": 24,
   "id": "1bf4de37-d604-47b7-a424-c1fc1f48b208",
   "metadata": {},
   "outputs": [
    {
     "name": "stdout",
     "output_type": "stream",
     "text": [
      "iPhone SEはアメリカの企業であるApple（アップル）が開発した製品です。\n"
     ]
    }
   ],
   "source": [
    "#62\n",
    "\n",
    "# P52\n",
    "from openai import OpenAI\n",
    "\n",
    "client = OpenAI()\n",
    "\n",
    "humanMessage = HumanMessage(content=prompt.format(product=\"iPhone SE\"))\n",
    "\n",
    "result = chat.invoke([humanMessage])\n",
    "print(result.content)"
   ]
  },
  {
   "cell_type": "markdown",
   "id": "b13273cf-77b1-4840-bbb9-fd659ceec3c9",
   "metadata": {},
   "source": [
    "勉強してるとき、気分転換にBluesHarp吹くようになった。\n",
    "以下は自作の3DCG。\n",
    "\n",
    "<img src=\"PlayingBluesHarp.jpg\" width=400>\n",
    "\n",
    "今回もBlues Harpを題材に。"
   ]
  },
  {
   "cell_type": "code",
   "execution_count": 25,
   "id": "5abf3ace-89b5-457d-9a3d-3b3bc587847f",
   "metadata": {},
   "outputs": [
    {
     "name": "stdout",
     "output_type": "stream",
     "text": [
      "East top T008kは、Easttop Musical Instrument Co., Ltd.が開発した製品です。Easttop Musical Instrument Co., Ltd.は、中国のハモンドハーモニカメーカーです。\n"
     ]
    }
   ],
   "source": [
    "humanMessage = HumanMessage(content=prompt.format(product=\"East top T008k\"))\n",
    "\n",
    "result = chat.invoke([humanMessage])\n",
    "print(result.content)"
   ]
  },
  {
   "cell_type": "code",
   "execution_count": 30,
   "id": "5c744390-d458-4267-ad4a-8e7b4ae8acb9",
   "metadata": {},
   "outputs": [
    {
     "name": "stdout",
     "output_type": "stream",
     "text": [
      "East top 008kは、中国の会社であるEasttop Musical Instrument Co., Ltd.が開発した製品です。Easttop Musical Instrument Co., Ltd.は、ハーモニカやその他の楽器を製造している企業です。\n",
      "\n",
      "Lee Oskar harmonicasは、米国の会社である Tombo Musical Instruments が開発した製品です。Lee Oskarは、アメリカのハーモニカ奏者であり、Tombo Musical Instrumentsと共同で設計されたハーモニカのブランドです。\n",
      "\n",
      "Hohner Special 20は、ホーナー社が開発したハーモニカの製品です。ホーナー社は、世界中で有名なハーモニカメーカーであり、Hohner Special 20は同社の人気製品の一つです。\n",
      "\n"
     ]
    }
   ],
   "source": [
    "bluesHarpModels = [\"East top 008k\", \"Lee Oskar harmonica\", \"Hohner Special 20\"]\n",
    "\n",
    "for harmonicaModel in bluesHarpModels:\n",
    "    humanMessage = HumanMessage(content=prompt.format(product=harmonicaModel))\n",
    "    print(chat.invoke([humanMessage]).content, end='\\n\\n')"
   ]
  },
  {
   "cell_type": "markdown",
   "id": "e0c1e7e1-16d8-4aee-a079-96e21d6dfc99",
   "metadata": {},
   "source": [
    "毎度、結果が微妙に異なるので、以下にコピーしておく。内容は正確。Lee OskarってトンボのMajor Boyのアメリカ向けなのだと想像出来た。\n",
    "\n",
    "1回目\n",
    "```\n",
    "East top 008kは中国の会社であるEast topが開発した製品です。East topは、電子機器やスマートフォンアクセサリーを製造している企業です。\n",
    "\n",
    "Lee Oskar harmonicaは、米国の会社である Tombo Musical Instruments が開発した製品です。Lee Oskarは、トンボ社と提携してハーモニカの製品ラインを展開しています。\n",
    "\n",
    "Hohner Special 20は、ドイツの楽器メーカーであるHohner社が開発したハーモニカです。Hohner社は、世界でも有名なハーモニカメーカーの一つであり、高品質な楽器を製造しています。\n",
    "```\n",
    "\n",
    "2回目\n",
    "```\n",
    "East top 008kは、中国の会社であるEasttop Musical Instrument Co., Ltd.が開発した製品です。Easttop Musical Instrument Co., Ltd.は、ハーモニカやその他の楽器を製造している企業です。\n",
    "\n",
    "Lee Oskar harmonicasは、米国の会社である Tombo Musical Instruments が開発した製品です。Lee Oskarは、アメリカのハーモニカ奏者であり、Tombo Musical Instrumentsと共同で設計されたハーモニカのブランドです。\n",
    "\n",
    "Hohner Special 20は、ホーナー社が開発したハーモニカの製品です。ホーナー社は、世界中で有名なハーモニカメーカーであり、Hohner Special 20は同社の人気製品の一つです。\n",
    "```"
   ]
  },
  {
   "cell_type": "markdown",
   "id": "8981c5ce-f987-4f13-8c13-002eb0830f2c",
   "metadata": {},
   "source": [
    "## Output Parser"
   ]
  },
  {
   "cell_type": "code",
   "execution_count": 36,
   "id": "61427895-7d24-4ef8-b80f-d1ddbf95aea5",
   "metadata": {},
   "outputs": [
    {
     "name": "stdout",
     "output_type": "stream",
     "text": [
      "1. Hohner Special 20\n",
      "2. Hohner Marine Band\n",
      "3. Lee Oskar Major Diatonic\n",
      "4. Suzuki Bluesmaster\n",
      "5. Seydel Session Steel\n",
      "6. Hohner Blues Harp\n",
      "7. Fender Blues Deluxe Harmonica\n",
      "8. Easttop T008K Blues Harmonica\n"
     ]
    }
   ],
   "source": [
    "# P65\n",
    "from langchain_openai import ChatOpenAI\n",
    "from langchain.output_parsers import CommaSeparatedListOutputParser\n",
    "from langchain_core.messages import HumanMessage\n",
    "\n",
    "chat = ChatOpenAI(model=\"gpt-3.5-turbo\")\n",
    "\n",
    "result = chat.invoke([HumanMessage(content=\"世界で最も人気のあるブルースハープを8個教えてください\")])\n",
    "print(result.content)"
   ]
  },
  {
   "cell_type": "code",
   "execution_count": 38,
   "id": "e590d94a-49f2-4e82-bd03-7a7c7f2a57e3",
   "metadata": {},
   "outputs": [
    {
     "name": "stdout",
     "output_type": "stream",
     "text": [
      "代表的な製品 => Hohner Special 20\n",
      "代表的な製品 => Hohner Marine Band\n",
      "代表的な製品 => Lee Oskar Major Diatonic\n",
      "代表的な製品 => Seydel Blues Session Steel\n",
      "代表的な製品 => Suzuki Promaster\n",
      "代表的な製品 => Lee Oskar Natural Minor\n",
      "代表的な製品 => Hohner Golden Melody\n",
      "代表的な製品 => Suzuki Manji\n"
     ]
    }
   ],
   "source": [
    "output_parser = CommaSeparatedListOutputParser()\n",
    "\n",
    "result = chat.invoke([\n",
    "    HumanMessage(content=\"世界で最も人気のあるブルースハープを8個教えてください\"),\n",
    "    HumanMessage(content=output_parser.get_format_instructions())\n",
    "])\n",
    "output = output_parser.parse(result.content)\n",
    "for bh in output:\n",
    "    print(f'代表的な製品 => {bh}')"
   ]
  },
  {
   "cell_type": "markdown",
   "id": "244a4d3e-df16-4d30-8978-3581aa91e5ab",
   "metadata": {},
   "source": [
    "結果は正しい。"
   ]
  },
  {
   "cell_type": "markdown",
   "id": "e2c3ce90-3f93-410a-9b73-ab9bb9f4b6ef",
   "metadata": {},
   "source": [
    "## In-memory Cache"
   ]
  },
  {
   "cell_type": "code",
   "execution_count": 51,
   "id": "dd5419c6-b7aa-41ce-a1aa-e8809019ba2b",
   "metadata": {},
   "outputs": [],
   "source": [
    "from langchain_openai import ChatOpenAI\n",
    "from langchain.globals import set_llm_cache\n",
    "from langchain.cache import InMemoryCache\n",
    "\n",
    "chat = ChatOpenAI(model_name=\"gpt-3.5-turbo\", n=2)\n",
    "\n",
    "set_llm_cache(InMemoryCache())"
   ]
  },
  {
   "cell_type": "code",
   "execution_count": 52,
   "id": "51cc72ab-a66d-4fe2-89c3-bccc3ea61d25",
   "metadata": {},
   "outputs": [
    {
     "name": "stdout",
     "output_type": "stream",
     "text": [
      "Special 20 は、ドイツのホーアー社（Hohner）が開発したハーモニカです。\n",
      "Elapsed time: 1.4400 sec\n"
     ]
    }
   ],
   "source": [
    "import time\n",
    "\n",
    "Q = \"Special 20 はどこの会社が開発したハーモニカですか？\"\n",
    "\n",
    "start = time.time()\n",
    "result = chat.invoke([HumanMessage(content=Q)])\n",
    "end = time.time()\n",
    "print(result.content)\n",
    "print(f\"Elapsed time: {end - start:.4f} sec\")"
   ]
  },
  {
   "cell_type": "code",
   "execution_count": 53,
   "id": "e4e9ee53-408d-4293-9725-85e06063c923",
   "metadata": {},
   "outputs": [
    {
     "name": "stdout",
     "output_type": "stream",
     "text": [
      "Special 20 は、ドイツのホーアー社（Hohner）が開発したハーモニカです。\n",
      "Elapsed time: 0.0014 sec\n"
     ]
    }
   ],
   "source": [
    "start = time.time()\n",
    "result = chat.invoke([HumanMessage(content=Q)])\n",
    "end = time.time()\n",
    "print(result.content)\n",
    "print(f\"Elapsed time: {end - start:.4f} sec\")"
   ]
  },
  {
   "cell_type": "markdown",
   "id": "42609d9e-459a-42d4-be41-61390d46092f",
   "metadata": {},
   "source": [
    "## Streaming\n",
    "\n",
    "注意：InMemoryCacheが効いていると2回目はCallBackされないよう。"
   ]
  },
  {
   "cell_type": "code",
   "execution_count": 60,
   "id": "6ad614c8-0389-4bca-af71-8b87c8f3c60b",
   "metadata": {},
   "outputs": [
    {
     "name": "stdout",
     "output_type": "stream",
     "text": [
      "ガパオライスの作り方は以下の通りです。\n",
      "\n",
      "【材料】\n",
      "- 鶏ひき肉 200g\n",
      "- にんにく 2片（みじん切り）\n",
      "- たまねぎ 1/2個（みじん切り）\n",
      "- バジル 1/2カップ\n",
      "- 赤唐辛子 1本（輪切り）\n",
      "- 油 大さじ2\n",
      "- 醤油 大さじ2\n",
      "- おろししょうが 小さじ1\n",
      "- おろしにんにく 小さじ1\n",
      "- ご飯 2杯\n",
      "- 卵 2個\n",
      "- 塩・こしょう 適量\n",
      "\n",
      "【作り方】\n",
      "1. フライパンに油を熱し、にんにくとたまねぎを炒めます。\n",
      "2. 鶏ひき肉を加えて炒め、色が変わってきたら醤油を加えて味を調えます。\n",
      "3. 赤唐辛子、おろししょうが、おろしにんにくを加えてさらに炒めます。\n",
      "4. バジルを加えて炒め、塩・こしょうで味を調えます。\n",
      "5. 別のフライパンで卵を溶き、ご飯を加えて炒めます。\n",
      "6. 皿に盛り付け、その上にガパオの具をのせて完成です。\n",
      "\n",
      "ぜひお試しください。おいしいガパオライスができると思います。"
     ]
    }
   ],
   "source": [
    "from langchain_core.callbacks.streaming_stdout import StreamingStdOutCallbackHandler\n",
    "from langchain_openai import ChatOpenAI\n",
    "from langchain_core.messages import HumanMessage\n",
    "\n",
    "chat = ChatOpenAI(\n",
    "    streaming=True,\n",
    "    callbacks=[\n",
    "        StreamingStdOutCallbackHandler()\n",
    "    ]\n",
    ")\n",
    "\n",
    "result = chat.invoke(\n",
    "    [\n",
    "        HumanMessage(content=\"とてもおいしいガパオライスの作り方を教えて\")\n",
    "    ]\n",
    ")"
   ]
  }
 ],
 "metadata": {
  "kernelspec": {
   "display_name": "Python 3 (ipykernel)",
   "language": "python",
   "name": "python3"
  },
  "language_info": {
   "codemirror_mode": {
    "name": "ipython",
    "version": 3
   },
   "file_extension": ".py",
   "mimetype": "text/x-python",
   "name": "python",
   "nbconvert_exporter": "python",
   "pygments_lexer": "ipython3",
   "version": "3.11.4"
  }
 },
 "nbformat": 4,
 "nbformat_minor": 5
}
