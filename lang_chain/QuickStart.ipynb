{
 "cells": [
  {
   "cell_type": "markdown",
   "id": "f51b2261-5d3b-4dd4-8f5f-07a0ba6a46f9",
   "metadata": {},
   "source": [
    "# LangChain Quickstart\n",
    "\n",
    "Date: 2024/08/11\n",
    "\n",
    "LangChain完全入門の本は良かったが、LangChain APIの仕様変更が激しいので、LangChainサイト上のチュートリアルに沿って勉強する。\n",
    "\n",
    "Reference: https://python.langchain.com/v0.1/docs/get_started/quickstart/"
   ]
  },
  {
   "cell_type": "markdown",
   "id": "6abf7100-d87f-4bce-824d-27e00dcca87f",
   "metadata": {},
   "source": [
    "## LLM Chain"
   ]
  },
  {
   "cell_type": "code",
   "execution_count": 7,
   "id": "82d635e1-d569-4944-8908-f3a960b29d21",
   "metadata": {},
   "outputs": [],
   "source": [
    "## OpenAIモデル\n",
    "\n",
    "from langchain_openai import ChatOpenAI\n",
    "\n",
    "llm = ChatOpenAI()"
   ]
  },
  {
   "cell_type": "code",
   "execution_count": 6,
   "id": "06b8e235-9212-426e-bbf5-cc0ed9895040",
   "metadata": {},
   "outputs": [
    {
     "data": {
      "text/plain": [
       "AIMessage(content='Langsmith can help with testing by providing automated testing tools and frameworks that can be used to test various aspects of software applications. This includes functional testing, regression testing, performance testing, and security testing. Langsmith can also assist in creating test cases, setting up test environments, and analyzing test results. Additionally, Langsmith can help in identifying and fixing bugs and issues found during testing, ensuring the overall quality and reliability of the software.', response_metadata={'token_usage': {'completion_tokens': 87, 'prompt_tokens': 15, 'total_tokens': 102}, 'model_name': 'gpt-3.5-turbo-0125', 'system_fingerprint': None, 'finish_reason': 'stop', 'logprobs': None}, id='run-a60abed4-bb58-4d98-a26d-da380405a27f-0', usage_metadata={'input_tokens': 15, 'output_tokens': 87, 'total_tokens': 102})"
      ]
     },
     "execution_count": 6,
     "metadata": {},
     "output_type": "execute_result"
    }
   ],
   "source": [
    "llm.invoke(\"how can langsmith help with testing?\")"
   ]
  },
  {
   "cell_type": "code",
   "execution_count": 10,
   "id": "de6963e1-9474-451e-825e-e16a0edaedeb",
   "metadata": {},
   "outputs": [],
   "source": [
    "# Prompt\n",
    "\n",
    "from langchain_core.prompts import ChatPromptTemplate\n",
    "prompt = ChatPromptTemplate.from_messages([\n",
    "    (\"system\", \"You are a world class technical documentation writer.\"),\n",
    "    (\"user\", \"{input}\")\n",
    "])"
   ]
  },
  {
   "cell_type": "code",
   "execution_count": 8,
   "id": "ecfcc1c4-cd2f-49d3-892b-515cee1436de",
   "metadata": {},
   "outputs": [
    {
     "data": {
      "text/plain": [
       "ChatOpenAI(client=<openai.resources.chat.completions.Completions object at 0x10e2b7c50>, async_client=<openai.resources.chat.completions.AsyncCompletions object at 0x10e2a9f10>, openai_api_key=SecretStr('**********'), openai_proxy='')"
      ]
     },
     "execution_count": 8,
     "metadata": {},
     "output_type": "execute_result"
    }
   ],
   "source": [
    "llm"
   ]
  },
  {
   "cell_type": "code",
   "execution_count": 11,
   "id": "a98dc50a-4926-4b21-a3c9-ad720048c571",
   "metadata": {},
   "outputs": [
    {
     "data": {
      "text/plain": [
       "ChatPromptTemplate(input_variables=['input'], messages=[SystemMessagePromptTemplate(prompt=PromptTemplate(input_variables=[], template='You are a world class technical documentation writer.')), HumanMessagePromptTemplate(prompt=PromptTemplate(input_variables=['input'], template='{input}'))])"
      ]
     },
     "execution_count": 11,
     "metadata": {},
     "output_type": "execute_result"
    }
   ],
   "source": [
    "prompt"
   ]
  },
  {
   "cell_type": "code",
   "execution_count": 12,
   "id": "6ab22d4c-7d32-4dbb-994e-4cb955dd3e99",
   "metadata": {},
   "outputs": [],
   "source": [
    "# LangChainではor operatorをoverloadingした？\n",
    "\n",
    "chain = prompt | llm "
   ]
  },
  {
   "cell_type": "code",
   "execution_count": 13,
   "id": "e8eb88b5-a0ff-4d2e-a284-ccdd2e434dbc",
   "metadata": {},
   "outputs": [
    {
     "data": {
      "text/plain": [
       "AIMessage(content=\"Langsmith is a powerful tool that can greatly aid in testing software applications. Here are some ways in which Langsmith can help with testing:\\n\\n1. **Automated Testing**: Langsmith can be used to automate various testing tasks such as regression testing, unit testing, and integration testing. By writing test scripts in Langsmith, testers can automate the execution of test cases, saving time and effort.\\n\\n2. **Data Generation**: Langsmith can generate realistic and diverse test data to ensure thorough testing coverage. Testers can use Langsmith to create test data sets that cover a wide range of input scenarios, helping to identify potential issues in the application.\\n\\n3. **Performance Testing**: Langsmith can be used to simulate high volumes of user interactions to test the performance of the application under load. Testers can create scripts to simulate concurrent user sessions and analyze the application's response time and scalability.\\n\\n4. **API Testing**: Langsmith supports testing of APIs and web services. Testers can use Langsmith to send requests to APIs, validate responses, and automate API testing workflows.\\n\\n5. **Integration Testing**: Langsmith can be used to automate integration testing across various components of the software application. Testers can create scripts to simulate interactions between different modules or systems to ensure that they work together seamlessly.\\n\\nOverall, Langsmith can streamline the testing process, improve test coverage, and help identify defects early in the development lifecycle. It is a valuable tool for testers looking to enhance their testing efforts and deliver high-quality software products.\", response_metadata={'token_usage': {'completion_tokens': 302, 'prompt_tokens': 28, 'total_tokens': 330}, 'model_name': 'gpt-3.5-turbo-0125', 'system_fingerprint': None, 'finish_reason': 'stop', 'logprobs': None}, id='run-1bb5f6c1-4f77-4863-a041-e4f3a74388e5-0', usage_metadata={'input_tokens': 28, 'output_tokens': 302, 'total_tokens': 330})"
      ]
     },
     "execution_count": 13,
     "metadata": {},
     "output_type": "execute_result"
    }
   ],
   "source": [
    "chain.invoke({\"input\": \"how can langsmith help with testing?\"})"
   ]
  },
  {
   "cell_type": "markdown",
   "id": "497fd751-8ece-4a99-8c67-3b5f8184b984",
   "metadata": {},
   "source": [
    "確かに、テクニカルライター調の文章になった。"
   ]
  },
  {
   "cell_type": "code",
   "execution_count": 16,
   "id": "c281fc88-eec5-43f4-9146-176bea0da98d",
   "metadata": {},
   "outputs": [],
   "source": [
    "## StrOutputParser\n",
    "\n",
    "from langchain_core.output_parsers import StrOutputParser\n",
    "\n",
    "output_parser = StrOutputParser()"
   ]
  },
  {
   "cell_type": "code",
   "execution_count": 17,
   "id": "120494c0-584e-4727-9d0b-03cc3e37561c",
   "metadata": {},
   "outputs": [],
   "source": [
    "chain = prompt | llm | output_parser"
   ]
  },
  {
   "cell_type": "code",
   "execution_count": 18,
   "id": "0979c764-3736-4729-bf7d-68a4224bd374",
   "metadata": {},
   "outputs": [
    {
     "data": {
      "text/plain": [
       "'Langsmith can help with testing in various ways by providing tools and frameworks that support different aspects of the testing process. Here are some ways Langsmith can assist with testing:\\n\\n1. Automated Testing: Langsmith provides libraries and utilities for writing automated tests, enabling developers to create test cases that can be executed automatically to verify the functionality of their code.\\n\\n2. Test Data Generation: Langsmith can assist in generating test data for different scenarios, making it easier for testers to cover a wide range of inputs and edge cases in their tests.\\n\\n3. Mocking and Stubbing: Langsmith offers tools for creating mock objects and stubs, which can be useful for isolating components during testing and simulating certain behaviors or conditions.\\n\\n4. Performance Testing: Langsmith provides capabilities for conducting performance testing and profiling, allowing testers to analyze the performance of their applications and identify potential bottlenecks.\\n\\n5. Integration Testing: Langsmith supports integration testing by providing tools for setting up test environments, interacting with external systems, and validating the interactions between different components.\\n\\n6. Continuous Integration: Langsmith can be integrated with continuous integration (CI) tools to automate the testing process and ensure that tests are run regularly as part of the development workflow.\\n\\nOverall, Langsmith can help streamline the testing process, improve test coverage, and ensure the quality and reliability of software applications.'"
      ]
     },
     "execution_count": 18,
     "metadata": {},
     "output_type": "execute_result"
    }
   ],
   "source": [
    "chain.invoke({\"input\": \"how can langsmith help with testing?\"})"
   ]
  },
  {
   "cell_type": "markdown",
   "id": "ffbabbb8-9d05-4901-896f-16cb832e151e",
   "metadata": {},
   "source": [
    "文字部分のパーサーが機能したのを確認した。"
   ]
  },
  {
   "cell_type": "markdown",
   "id": "8dd2ce5f-6165-4fdd-af4b-1ded0b7e5220",
   "metadata": {},
   "source": [
    "## Retrieval Chain"
   ]
  }
 ],
 "metadata": {
  "kernelspec": {
   "display_name": "Python 3 (ipykernel)",
   "language": "python",
   "name": "python3"
  },
  "language_info": {
   "codemirror_mode": {
    "name": "ipython",
    "version": 3
   },
   "file_extension": ".py",
   "mimetype": "text/x-python",
   "name": "python",
   "nbconvert_exporter": "python",
   "pygments_lexer": "ipython3",
   "version": "3.11.4"
  }
 },
 "nbformat": 4,
 "nbformat_minor": 5
}
