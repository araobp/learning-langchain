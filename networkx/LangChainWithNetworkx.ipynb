{
 "cells": [
  {
   "cell_type": "markdown",
   "id": "6a8185fb-fa07-4af0-9f3e-33d1816c8eb1",
   "metadata": {},
   "source": [
    "# LangChain with networkx\n",
    "\n",
    "Date: 2024/08/09\n",
    "\n",
    "Reference: https://python.langchain.com/v0.1/docs/integrations/graphs/networkx/"
   ]
  },
  {
   "cell_type": "code",
   "execution_count": 1,
   "id": "b6c14c9a-c6ef-4683-ba05-48a9719182f3",
   "metadata": {},
   "outputs": [],
   "source": [
    "from langchain.indexes import GraphIndexCreator\n",
    "from langchain_openai import OpenAI"
   ]
  },
  {
   "cell_type": "code",
   "execution_count": 7,
   "id": "565dc26a-890e-46c9-a168-7ff71b184b63",
   "metadata": {},
   "outputs": [],
   "source": [
    "index_creator = GraphIndexCreator(llm=OpenAI(temperature=0))"
   ]
  },
  {
   "cell_type": "code",
   "execution_count": 3,
   "id": "319c19ed-00ff-4b76-9c42-4570cdce3d57",
   "metadata": {},
   "outputs": [],
   "source": [
    "#with open(\"doc/state_of_the_union.txt\") as f:\n",
    "#    all_text = f.read()"
   ]
  },
  {
   "cell_type": "code",
   "execution_count": 16,
   "id": "7950195b-eeef-45cb-b626-96e68589acc7",
   "metadata": {},
   "outputs": [
    {
     "name": "stdout",
     "output_type": "stream",
     "text": [
      "第4章\n",
      "第1 節 AIの進化に伴う課題と現状の取組\n",
      "進化してきたAIは我々の生活に便利さをもたらす一方で、活用に当たっては留意すべきリスク\n",
      "や課題も存在している。これまで、AI全般についても、不適切なデータや偏ったデータを学習に\n",
      "使用することでモデルのバイアスや誤差が増加し、予測の信頼性が低下する点や、多くの従来の機\n",
      "械学習モデルについてブラックボックス（透明性の欠如）となっていてその内部動作が理解しにく\n",
      "く、重要な意思決定の場面で問題を引き起こす可能性が指摘されていた。これに加え、生成AIが\n",
      "爆発的に発展・普及する中で、特有の課題・リスクも明らかになってきた。以下に生成AIが抱え\n",
      "るリスク・課題を技術的/社会・経済的な観点から概観する。\n",
      "\t1 \n",
      "生成AIが抱える課題\n",
      "2024年4月に総務省・経済産業省が策定した「AI事業者ガイドライン（第1.0版）\n",
      "」では、\n",
      "（従\n",
      "来から存在する）AIによるリスクに加えて、生成AIによって顕在化したリスクについて例示して\n",
      "いる（図表Ⅰ-4-1-1）\n",
      "。例えば、従来から存在するAIによるリスクとして、バイアスのある結果及\n",
      "び差別的な結果が出力されてしまう、フィルターバブル及びエコーチェンバー現象\n",
      "＊1が生じてしま\n",
      "う、データ汚染攻撃のリスク（AIの学習実施時の性能劣化及び誤分類につながるような学習データ\n",
      "の混入等）\n",
      "、AIの利用拡大に伴う計算リソースの拡大によるエネルギー使用量及び環境負荷\n",
      "＊2等が\n",
      "挙げられている。また、生成AIによって顕在化したリスクとしては、ハルシネーション等が挙げら\n",
      "れる。生成AIは事実に基づかない誤った情報をもっともらしく生成することがあり、これをハルシ\n",
      "ネーション（幻覚）と呼ぶ。技術的な対策が検討されているものの完全に抑制できるものではない\n",
      "ため、生成AIを活用する際には、ハルシネーションが起こる可能性を念頭に置き、検索を併用する\n",
      "など、ユーザーは生成AIの出力した答えが正しいかどうかを確認することが望ましい。また、生成\n",
      "AIの利用において、個人情報や機密情報がプロンプトとして入力され、そのAIからの出力等を通\n",
      "じて流出してしまうリスクや、ディープフェイクによる偽画像及び偽動画といった偽・誤情報を鵜\n",
      "呑みにしてしまい、情報操作や世論工作に使われるといったリスク、既存の情報に基づいてAIによ\n",
      "り生成された回答を鵜呑みにする状況が続くと、既存の情報に含まれる偏見を増幅し、不公平ある\n",
      "いは差別的な出力が継続/拡大する（バイアスを再生成する）リスクがあること等も指摘されている。\n",
      "同ガイドラインでは、このような「リスクの存在を理由として直ちにAIの開発・提供・利用を\n",
      "妨げるものではない」としたうえで、\n",
      "「リスクを認識し、リスクの許容性及び便益とのバランスを\n",
      "検討したうえで、積極的にAIの開発・提供・利用を行うことを通じて、競争力の強化、価値の創\n",
      "出、ひいてはイノベーションに繋げることが期待される」としている。\n",
      "＊1 「フィルターバブル」とは、アルゴリズムがネット利用者個人の検索履歴やクリック履歴を分析し学習することで、個々のユーザーにとっては望む\n",
      "と望まざるとにかかわらず見たい情報が優先的に表示され、\n",
      "利用者の観点に合わない情報からは隔離され、\n",
      "自身の考え方や価値観の「バブル（泡）\n",
      "」\n",
      "の中に孤立するという情報環境を指す。\n",
      "「エコーチェンバー」とは、同じ意見を持つ人々が集まり、自分たちの意見を強化し合うことで、自分の意\n",
      "見を間違いないものと信じ込み、多様な視点に触れることができなくなってしまう現象を指す。これらへの対応については、第6章第1節2．参照\n",
      "＊2 \n",
      "同ガイドラインにおいては、エネルギー管理にAIを導入することで、効率的な電力利用も可能となる等、AIによる環境への貢献可能性もあ\n",
      "る点も指摘されている。\n",
      "デジタルテクノロジーの課題と\n",
      "現状の対応策\n",
      "46\n",
      "令和6年版　情報通信白書　第Ⅰ部\n",
      "第\n",
      "4\n",
      "章\n",
      "デ\n",
      "ジ\n",
      "タ\n",
      "ル\n",
      "テ\n",
      "ク\n",
      "ノ\n",
      "ロ\n",
      "ジ\n",
      "ー\n",
      "の\n",
      "課\n",
      "題\n",
      "と\n",
      "現\n",
      "状\n",
      "の\n",
      "対\n",
      "応\n",
      "策\n",
      "\n"
     ]
    }
   ],
   "source": [
    "from langchain_community.document_loaders import PyMuPDFLoader\n",
    "loader = PyMuPDFLoader(\"doc/n1410000.pdf\")\n",
    "data = loader.load()\n",
    "print(data[0].page_content)"
   ]
  },
  {
   "cell_type": "code",
   "execution_count": 4,
   "id": "690a00ee-f195-4513-8fd2-75fc5bc60f8e",
   "metadata": {},
   "outputs": [
    {
     "data": {
      "text/plain": [
       "'It won’t look like much, but if you stop and look closely, you’ll see a “Field of dreams,” the ground on which America’s future will be built. \\nThis is where Intel, the American company that helped build Silicon Valley, is going to build its $20 billion semiconductor “mega site”. \\nUp to eight state-of-the-art factories in one place. 10,000 new good-paying jobs. '"
      ]
     },
     "execution_count": 4,
     "metadata": {},
     "output_type": "execute_result"
    }
   ],
   "source": [
    "text = \"\\n\".join(all_text.split(\"\\n\\n\")[105:108])\n",
    "text"
   ]
  },
  {
   "cell_type": "code",
   "execution_count": 5,
   "id": "6f291763-2299-41e3-9d8c-96adc3b7e579",
   "metadata": {},
   "outputs": [],
   "source": [
    "graph = index_creator.from_text(text)"
   ]
  },
  {
   "cell_type": "code",
   "execution_count": 6,
   "id": "b661f064-69ce-4b24-9702-738bfa687edc",
   "metadata": {
    "scrolled": true
   },
   "outputs": [
    {
     "data": {
      "text/plain": [
       "[('Intel', '$20 billion semiconductor “mega site”', 'is going to build'),\n",
       " ('Intel', 'Silicon Valley', 'helped build'),\n",
       " ('Intel', 'up to eight state-of-the-art factories', 'is going to build'),\n",
       " ('Intel', '10,000 new good-paying jobs', 'is going to create'),\n",
       " ('America', '“Field of dreams”', 'will be built on')]"
      ]
     },
     "execution_count": 6,
     "metadata": {},
     "output_type": "execute_result"
    }
   ],
   "source": [
    "graph.get_triples()"
   ]
  },
  {
   "cell_type": "code",
   "execution_count": 7,
   "id": "e9a61d86-77f1-4933-be0c-c6a8b11c0962",
   "metadata": {},
   "outputs": [],
   "source": [
    "from langchain.chains import GraphQAChain"
   ]
  },
  {
   "cell_type": "code",
   "execution_count": 8,
   "id": "081e0150-3cf2-4b69-aac2-46d75f4644fb",
   "metadata": {},
   "outputs": [],
   "source": [
    "chain = GraphQAChain.from_llm(OpenAI(temperature=0), graph=graph, verbose=True)"
   ]
  },
  {
   "cell_type": "code",
   "execution_count": 9,
   "id": "67a211de-c25e-4333-884d-70110553fda8",
   "metadata": {},
   "outputs": [
    {
     "name": "stderr",
     "output_type": "stream",
     "text": [
      "/Library/Frameworks/Python.framework/Versions/3.11/lib/python3.11/site-packages/langchain_core/_api/deprecation.py:139: LangChainDeprecationWarning: The method `Chain.run` was deprecated in langchain 0.1.0 and will be removed in 0.3.0. Use invoke instead.\n",
      "  warn_deprecated(\n"
     ]
    },
    {
     "name": "stdout",
     "output_type": "stream",
     "text": [
      "\n",
      "\n",
      "\u001b[1m> Entering new GraphQAChain chain...\u001b[0m\n",
      "Entities Extracted:\n",
      "\u001b[32;1m\u001b[1;3m Intel\u001b[0m\n",
      "Full Context:\n",
      "\u001b[32;1m\u001b[1;3mIntel is going to build $20 billion semiconductor “mega site”\n",
      "Intel helped build Silicon Valley\n",
      "Intel is going to build up to eight state-of-the-art factories\n",
      "Intel is going to create 10,000 new good-paying jobs\u001b[0m\n",
      "\n",
      "\u001b[1m> Finished chain.\u001b[0m\n"
     ]
    },
    {
     "data": {
      "text/plain": [
       "' Intel is going to build a $20 billion semiconductor \"mega site\" and up to eight state-of-the-art factories.'"
      ]
     },
     "execution_count": 9,
     "metadata": {},
     "output_type": "execute_result"
    }
   ],
   "source": [
    "chain.run(\"what is Intel going to build?\")"
   ]
  }
 ],
 "metadata": {
  "kernelspec": {
   "display_name": "Python 3 (ipykernel)",
   "language": "python",
   "name": "python3"
  },
  "language_info": {
   "codemirror_mode": {
    "name": "ipython",
    "version": 3
   },
   "file_extension": ".py",
   "mimetype": "text/x-python",
   "name": "python",
   "nbconvert_exporter": "python",
   "pygments_lexer": "ipython3",
   "version": "3.11.4"
  }
 },
 "nbformat": 4,
 "nbformat_minor": 5
}
