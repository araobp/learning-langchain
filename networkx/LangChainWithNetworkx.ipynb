{
 "cells": [
  {
   "cell_type": "markdown",
   "id": "6a8185fb-fa07-4af0-9f3e-33d1816c8eb1",
   "metadata": {},
   "source": [
    "# LangChain with networkx\n",
    "\n",
    "Date: 2024/08/09\n",
    "\n",
    "Reference: https://python.langchain.com/v0.1/docs/integrations/graphs/networkx/"
   ]
  },
  {
   "cell_type": "code",
   "execution_count": 1,
   "id": "b6c14c9a-c6ef-4683-ba05-48a9719182f3",
   "metadata": {},
   "outputs": [],
   "source": [
    "from langchain.indexes import GraphIndexCreator\n",
    "from langchain_openai import OpenAI"
   ]
  },
  {
   "cell_type": "code",
   "execution_count": 2,
   "id": "565dc26a-890e-46c9-a168-7ff71b184b63",
   "metadata": {},
   "outputs": [],
   "source": [
    "index_creator = GraphIndexCreator(llm=OpenAI(temperature=0))"
   ]
  },
  {
   "cell_type": "code",
   "execution_count": 3,
   "id": "319c19ed-00ff-4b76-9c42-4570cdce3d57",
   "metadata": {},
   "outputs": [],
   "source": [
    "with open(\"doc/state_of_the_union.txt\") as f:\n",
    "    all_text = f.read()"
   ]
  },
  {
   "cell_type": "code",
   "execution_count": 4,
   "id": "690a00ee-f195-4513-8fd2-75fc5bc60f8e",
   "metadata": {},
   "outputs": [
    {
     "data": {
      "text/plain": [
       "'It won’t look like much, but if you stop and look closely, you’ll see a “Field of dreams,” the ground on which America’s future will be built. \\nThis is where Intel, the American company that helped build Silicon Valley, is going to build its $20 billion semiconductor “mega site”. \\nUp to eight state-of-the-art factories in one place. 10,000 new good-paying jobs. '"
      ]
     },
     "execution_count": 4,
     "metadata": {},
     "output_type": "execute_result"
    }
   ],
   "source": [
    "text = \"\\n\".join(all_text.split(\"\\n\\n\")[105:108])\n",
    "text"
   ]
  },
  {
   "cell_type": "code",
   "execution_count": 5,
   "id": "6f291763-2299-41e3-9d8c-96adc3b7e579",
   "metadata": {},
   "outputs": [],
   "source": [
    "graph = index_creator.from_text(text)"
   ]
  },
  {
   "cell_type": "code",
   "execution_count": 6,
   "id": "b661f064-69ce-4b24-9702-738bfa687edc",
   "metadata": {
    "scrolled": true
   },
   "outputs": [
    {
     "data": {
      "text/plain": [
       "[('Intel', '$20 billion semiconductor “mega site”', 'is going to build'),\n",
       " ('Intel', 'Silicon Valley', 'helped build'),\n",
       " ('Intel', 'up to eight state-of-the-art factories', 'is going to build'),\n",
       " ('Intel', '10,000 new good-paying jobs', 'is going to create'),\n",
       " ('America', '“Field of dreams”', 'will be built on')]"
      ]
     },
     "execution_count": 6,
     "metadata": {},
     "output_type": "execute_result"
    }
   ],
   "source": [
    "graph.get_triples()"
   ]
  },
  {
   "cell_type": "code",
   "execution_count": 7,
   "id": "e9a61d86-77f1-4933-be0c-c6a8b11c0962",
   "metadata": {},
   "outputs": [],
   "source": [
    "from langchain.chains import GraphQAChain"
   ]
  },
  {
   "cell_type": "code",
   "execution_count": 8,
   "id": "081e0150-3cf2-4b69-aac2-46d75f4644fb",
   "metadata": {},
   "outputs": [],
   "source": [
    "chain = GraphQAChain.from_llm(OpenAI(temperature=0), graph=graph, verbose=True)"
   ]
  },
  {
   "cell_type": "code",
   "execution_count": 9,
   "id": "67a211de-c25e-4333-884d-70110553fda8",
   "metadata": {},
   "outputs": [
    {
     "name": "stderr",
     "output_type": "stream",
     "text": [
      "/Library/Frameworks/Python.framework/Versions/3.11/lib/python3.11/site-packages/langchain_core/_api/deprecation.py:139: LangChainDeprecationWarning: The method `Chain.run` was deprecated in langchain 0.1.0 and will be removed in 0.3.0. Use invoke instead.\n",
      "  warn_deprecated(\n"
     ]
    },
    {
     "name": "stdout",
     "output_type": "stream",
     "text": [
      "\n",
      "\n",
      "\u001b[1m> Entering new GraphQAChain chain...\u001b[0m\n",
      "Entities Extracted:\n",
      "\u001b[32;1m\u001b[1;3m Intel\u001b[0m\n",
      "Full Context:\n",
      "\u001b[32;1m\u001b[1;3mIntel is going to build $20 billion semiconductor “mega site”\n",
      "Intel helped build Silicon Valley\n",
      "Intel is going to build up to eight state-of-the-art factories\n",
      "Intel is going to create 10,000 new good-paying jobs\u001b[0m\n",
      "\n",
      "\u001b[1m> Finished chain.\u001b[0m\n"
     ]
    },
    {
     "data": {
      "text/plain": [
       "' Intel is going to build a $20 billion semiconductor \"mega site\" and up to eight state-of-the-art factories.'"
      ]
     },
     "execution_count": 9,
     "metadata": {},
     "output_type": "execute_result"
    }
   ],
   "source": [
    "chain.run(\"what is Intel going to build?\")"
   ]
  }
 ],
 "metadata": {
  "kernelspec": {
   "display_name": "Python 3 (ipykernel)",
   "language": "python",
   "name": "python3"
  },
  "language_info": {
   "codemirror_mode": {
    "name": "ipython",
    "version": 3
   },
   "file_extension": ".py",
   "mimetype": "text/x-python",
   "name": "python",
   "nbconvert_exporter": "python",
   "pygments_lexer": "ipython3",
   "version": "3.11.4"
  }
 },
 "nbformat": 4,
 "nbformat_minor": 5
}
