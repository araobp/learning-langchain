{
 "cells": [
  {
   "cell_type": "markdown",
   "id": "6a8185fb-fa07-4af0-9f3e-33d1816c8eb1",
   "metadata": {},
   "source": [
    "# LangChain with networkx\n",
    "\n",
    "Date: 2024/08/09\n",
    "\n",
    "Reference: https://python.langchain.com/v0.1/docs/integrations/graphs/networkx/"
   ]
  },
  {
   "cell_type": "code",
   "execution_count": 2,
   "id": "b6c14c9a-c6ef-4683-ba05-48a9719182f3",
   "metadata": {},
   "outputs": [],
   "source": [
    "from langchain.indexes import GraphIndexCreator\n",
    "from langchain_openai import OpenAI"
   ]
  },
  {
   "cell_type": "code",
   "execution_count": 3,
   "id": "565dc26a-890e-46c9-a168-7ff71b184b63",
   "metadata": {},
   "outputs": [],
   "source": [
    "index_creator = GraphIndexCreator(llm=OpenAI(temperature=0))"
   ]
  },
  {
   "cell_type": "code",
   "execution_count": null,
   "id": "319c19ed-00ff-4b76-9c42-4570cdce3d57",
   "metadata": {},
   "outputs": [],
   "source": []
  }
 ],
 "metadata": {
  "kernelspec": {
   "display_name": "Python 3 (ipykernel)",
   "language": "python",
   "name": "python3"
  },
  "language_info": {
   "codemirror_mode": {
    "name": "ipython",
    "version": 3
   },
   "file_extension": ".py",
   "mimetype": "text/x-python",
   "name": "python",
   "nbconvert_exporter": "python",
   "pygments_lexer": "ipython3",
   "version": "3.11.4"
  }
 },
 "nbformat": 4,
 "nbformat_minor": 5
}
